{
  "nbformat": 4,
  "nbformat_minor": 0,
  "metadata": {
    "colab": {
      "provenance": [],
      "gpuType": "T4",
      "machine_shape": "hm"
    },
    "kernelspec": {
      "name": "python3",
      "display_name": "Python 3"
    },
    "language_info": {
      "name": "python"
    },
    "accelerator": "GPU"
  },
  "cells": [
    {
      "cell_type": "code",
      "source": [
        " !pip install datasets\n"
      ],
      "metadata": {
        "colab": {
          "base_uri": "https://localhost:8080/"
        },
        "id": "GYcR4sAtzdiF",
        "outputId": "7a3a76a1-f200-4dd6-b2f5-413eb14aa0dc"
      },
      "execution_count": null,
      "outputs": [
        {
          "output_type": "stream",
          "name": "stdout",
          "text": [
            "Installing collected packages: xxhash, dill, multiprocess, huggingface-hub, datasets\n",
            "  Attempting uninstall: huggingface-hub\n",
            "    Found existing installation: huggingface-hub 0.20.3\n",
            "    Uninstalling huggingface-hub-0.20.3:\n",
            "      Successfully uninstalled huggingface-hub-0.20.3\n",
            "Successfully installed datasets-2.19.0 dill-0.3.8 huggingface-hub-0.22.2 multiprocess-0.70.16 xxhash-3.4.1\n"
          ]
        }
      ]
    },
    {
      "cell_type": "code",
      "execution_count": null,
      "metadata": {
        "id": "wj2sp6F8kNM2"
      },
      "outputs": [],
      "source": [
        "import numpy as np\n",
        "import os\n",
        "from datasets import Dataset\n",
        "from sklearn.model_selection import train_test_split\n",
        "from tensorflow.keras.utils import to_categorical\n",
        "from tensorflow.keras import layers, models"
      ]
    },
    {
      "cell_type": "code",
      "source": [
        "from google.colab import drive\n",
        "drive.mount('/content/drive')"
      ],
      "metadata": {
        "colab": {
          "base_uri": "https://localhost:8080/"
        },
        "id": "EsfM0ZKimjU6",
        "outputId": "7f4f0bc8-5fdc-49da-81c7-a32573bd2033"
      },
      "execution_count": null,
      "outputs": [
        {
          "output_type": "stream",
          "name": "stdout",
          "text": [
            "Mounted at /content/drive\n"
          ]
        }
      ]
    },
    {
      "cell_type": "code",
      "source": [
        "import numpy as np\n",
        "import os\n",
        "\n",
        "def load_data(base_dir, layer='layer_10_processed'):\n",
        "    embeddings = []\n",
        "    labels = []\n",
        "    label_map = {}\n",
        "    current_label = 0\n",
        "\n",
        "    for speaker_dir in os.listdir(base_dir):\n",
        "        layer_dir = os.path.join(base_dir, speaker_dir, layer)\n",
        "        speaker_embeddings = []\n",
        "\n",
        "        if os.path.isdir(layer_dir):\n",
        "            for file_name in os.listdir(layer_dir):\n",
        "                if file_name.endswith('.npy'):\n",
        "                    path = os.path.join(layer_dir, file_name)\n",
        "                    embedding = np.load(path)\n",
        "                    speaker_embeddings.append(embedding)\n",
        "\n",
        "            # Append each embedding separately to the main list\n",
        "            for emb in speaker_embeddings:\n",
        "                embeddings.append(emb)\n",
        "                # Check if the speaker has a label assigned, if not assign one\n",
        "                if speaker_dir not in label_map:\n",
        "                    label_map[speaker_dir] = current_label\n",
        "                    current_label += 1\n",
        "                # Append the label corresponding to the speaker for each embedding\n",
        "                labels.append(label_map[speaker_dir])\n",
        "\n",
        "    # Convert list of embeddings and labels to numpy arrays for further processing\n",
        "    embeddings = np.array(embeddings)\n",
        "    labels = np.array(labels)\n",
        "    return embeddings, labels\n",
        "\n",
        "# Example usage\n",
        "base_dir = '/content/drive/My Drive/NLP/clips__test/'\n",
        "embeddings, labels = load_data(base_dir)\n"
      ],
      "metadata": {
        "id": "HCMWSYgZlv4H"
      },
      "execution_count": null,
      "outputs": []
    },
    {
      "cell_type": "code",
      "source": [
        "# Reshape data if necessary (assuming each .npy file contains data in a form that can be input directly into a CNN)\n",
        "# Example: reshaping to fit a simple CNN expecting inputs of shape (height, width, channels)\n",
        "# embeddings = embeddings.reshape(embeddings.shape[0], height, width, channels)\n",
        "\n",
        "# Encode labels to one-hot vectors\n",
        "labels = to_categorical(labels)\n",
        "\n",
        "# Split the data\n",
        "X_train, X_val, y_train, y_val = train_test_split(embeddings, labels, test_size=0.1, random_state=42)\n"
      ],
      "metadata": {
        "id": "-THvgeJpl1J1"
      },
      "execution_count": null,
      "outputs": []
    },
    {
      "cell_type": "code",
      "source": [
        "embeddings.shape"
      ],
      "metadata": {
        "colab": {
          "base_uri": "https://localhost:8080/"
        },
        "id": "O1BfmHBvHeJp",
        "outputId": "05341a0d-3aeb-4393-ab05-bc9c1cfb3767"
      },
      "execution_count": null,
      "outputs": [
        {
          "output_type": "execute_result",
          "data": {
            "text/plain": [
              "(12958, 1, 100, 1024)"
            ]
          },
          "metadata": {},
          "execution_count": 8
        }
      ]
    },
    {
      "cell_type": "code",
      "source": [
        "\n",
        "X_train = X_train.reshape(-1, 100, 1024, 1)  # Assuming your data is in (batch_size, 1, 100, 1024)\n",
        "X_val = X_val.reshape(-1, 100, 1024, 1)\n"
      ],
      "metadata": {
        "id": "6E8vr8qT5tgT"
      },
      "execution_count": null,
      "outputs": []
    },
    {
      "cell_type": "code",
      "source": [
        "def build_model(input_shape, num_classes):\n",
        "    model = models.Sequential([\n",
        "        layers.Conv2D(32, (3, 3), activation='relu', input_shape=input_shape),\n",
        "        layers.MaxPooling2D((2, 2)),\n",
        "        layers.Conv2D(64, (3, 3), activation='relu'),\n",
        "        layers.MaxPooling2D((2, 2)),\n",
        "        layers.Conv2D(64, (3, 3), activation='relu'),\n",
        "        layers.Flatten(),\n",
        "        layers.Dense(64, activation='relu'),\n",
        "        layers.Dense(num_classes, activation='softmax')\n",
        "    ])\n",
        "    model.compile(optimizer='adam',\n",
        "                  loss='categorical_crossentropy',\n",
        "                  metrics=['accuracy'])\n",
        "    return model\n",
        "\n",
        "# Example adjustment: reshape your data appropriately before using this function\n",
        "# Make sure `X_train` is reshaped if necessary\n",
        "# input_shape = (height, width, channels)\n",
        "input_shape = (100, 1024, 1)  # Now it matches the reshaped data\n",
        "num_classes = y_val.shape[1]\n",
        "model = build_model(input_shape, num_classes)\n",
        "\n",
        "\n"
      ],
      "metadata": {
        "id": "K1Cx0L_6l34R"
      },
      "execution_count": null,
      "outputs": []
    },
    {
      "cell_type": "code",
      "source": [],
      "metadata": {
        "colab": {
          "base_uri": "https://localhost:8080/"
        },
        "id": "9oWTN_GnrSEd",
        "outputId": "9bf6030e-c769-4c85-98df-4af7b51778db"
      },
      "execution_count": null,
      "outputs": [
        {
          "output_type": "execute_result",
          "data": {
            "text/plain": [
              "20"
            ]
          },
          "metadata": {},
          "execution_count": 11
        }
      ]
    },
    {
      "cell_type": "code",
      "source": [
        "from tensorflow.keras import models, layers\n",
        "from sklearn.metrics import f1_score, classification_report\n",
        "import numpy as np\n",
        "\n",
        "history = model.fit(X_train, y_train,\n",
        "                    epochs=20,\n",
        "                    batch_size=10,\n",
        "                    validation_data=(X_val, y_val))\n",
        "\n",
        "y_pred = model.predict(X_val)\n",
        "y_pred_classes = np.argmax(y_pred, axis=1)\n",
        "y_true_classes = np.argmax(y_val, axis=1)\n",
        "\n",
        "# Calculate F1 score\n",
        "f1 = f1_score(y_true_classes, y_pred_classes, average='macro')\n",
        "\n",
        "print(f\"F1 Score: {f1}\")\n",
        "print(classification_report(y_true_classes, y_pred_classes))\n"
      ],
      "metadata": {
        "id": "Gc1u4jH6l5K1",
        "colab": {
          "base_uri": "https://localhost:8080/"
        },
        "outputId": "2f0ac546-0303-43df-c2e1-b7b1d3bb36ad"
      },
      "execution_count": null,
      "outputs": [
        {
          "output_type": "stream",
          "name": "stdout",
          "text": [
            "Epoch 1/20\n",
            "1167/1167 [==============================] - 42s 32ms/step - loss: 1.6868 - accuracy: 0.4997 - val_loss: 0.4522 - val_accuracy: 0.8418\n",
            "Epoch 2/20\n",
            "1167/1167 [==============================] - 35s 30ms/step - loss: 0.2957 - accuracy: 0.8886 - val_loss: 0.3979 - val_accuracy: 0.8542\n",
            "Epoch 3/20\n",
            "1167/1167 [==============================] - 36s 31ms/step - loss: 0.1688 - accuracy: 0.9326 - val_loss: 0.4092 - val_accuracy: 0.8588\n",
            "Epoch 4/20\n",
            "1167/1167 [==============================] - 36s 31ms/step - loss: 0.1414 - accuracy: 0.9442 - val_loss: 0.3217 - val_accuracy: 0.8765\n",
            "Epoch 5/20\n",
            "1167/1167 [==============================] - 36s 31ms/step - loss: 0.1068 - accuracy: 0.9600 - val_loss: 0.3538 - val_accuracy: 0.8781\n",
            "Epoch 6/20\n",
            "1167/1167 [==============================] - 36s 31ms/step - loss: 0.0997 - accuracy: 0.9633 - val_loss: 0.5343 - val_accuracy: 0.8619\n",
            "Epoch 7/20\n",
            "1167/1167 [==============================] - 36s 31ms/step - loss: 0.0711 - accuracy: 0.9744 - val_loss: 0.4079 - val_accuracy: 0.8866\n",
            "Epoch 8/20\n",
            "1167/1167 [==============================] - 36s 30ms/step - loss: 0.0748 - accuracy: 0.9748 - val_loss: 0.4883 - val_accuracy: 0.8850\n",
            "Epoch 9/20\n",
            "1167/1167 [==============================] - 36s 31ms/step - loss: 0.0615 - accuracy: 0.9798 - val_loss: 0.4583 - val_accuracy: 0.8812\n",
            "Epoch 10/20\n",
            "1167/1167 [==============================] - 36s 30ms/step - loss: 0.0578 - accuracy: 0.9812 - val_loss: 0.4971 - val_accuracy: 0.8881\n",
            "Epoch 11/20\n",
            "1167/1167 [==============================] - 36s 30ms/step - loss: 0.0529 - accuracy: 0.9827 - val_loss: 0.6300 - val_accuracy: 0.8657\n",
            "Epoch 12/20\n",
            "1167/1167 [==============================] - 36s 31ms/step - loss: 0.0425 - accuracy: 0.9869 - val_loss: 0.6842 - val_accuracy: 0.8742\n",
            "Epoch 13/20\n",
            "1167/1167 [==============================] - 35s 30ms/step - loss: 0.0387 - accuracy: 0.9872 - val_loss: 0.5806 - val_accuracy: 0.8549\n",
            "Epoch 14/20\n",
            "1167/1167 [==============================] - 35s 30ms/step - loss: 0.0426 - accuracy: 0.9867 - val_loss: 0.5509 - val_accuracy: 0.8827\n",
            "Epoch 15/20\n",
            "1167/1167 [==============================] - 35s 30ms/step - loss: 0.0433 - accuracy: 0.9865 - val_loss: 0.6493 - val_accuracy: 0.8557\n",
            "Epoch 16/20\n",
            "1167/1167 [==============================] - 35s 30ms/step - loss: 0.0419 - accuracy: 0.9873 - val_loss: 0.4897 - val_accuracy: 0.8981\n",
            "Epoch 17/20\n",
            "1167/1167 [==============================] - 35s 30ms/step - loss: 0.0235 - accuracy: 0.9933 - val_loss: 0.5999 - val_accuracy: 0.8704\n",
            "Epoch 18/20\n",
            "1167/1167 [==============================] - 35s 30ms/step - loss: 0.0286 - accuracy: 0.9910 - val_loss: 0.5275 - val_accuracy: 0.8897\n",
            "Epoch 19/20\n",
            "1167/1167 [==============================] - 35s 30ms/step - loss: 0.0378 - accuracy: 0.9877 - val_loss: 0.6008 - val_accuracy: 0.8843\n",
            "Epoch 20/20\n",
            "1167/1167 [==============================] - 35s 30ms/step - loss: 0.0298 - accuracy: 0.9908 - val_loss: 0.8127 - val_accuracy: 0.8603\n",
            "41/41 [==============================] - 2s 32ms/step\n",
            "F1 Score: 0.8514762672107599\n",
            "              precision    recall  f1-score   support\n",
            "\n",
            "           0       0.92      0.95      0.93       104\n",
            "           1       0.93      0.99      0.96        68\n",
            "           2       0.82      0.66      0.73        64\n",
            "           3       0.52      0.96      0.68        24\n",
            "           4       1.00      0.87      0.93        61\n",
            "           5       0.55      0.52      0.53        67\n",
            "           6       0.78      0.92      0.85        75\n",
            "           7       0.95      0.99      0.97        75\n",
            "           8       0.93      1.00      0.96        65\n",
            "           9       0.83      0.99      0.90        71\n",
            "          10       0.91      1.00      0.95        49\n",
            "          11       0.69      0.62      0.66        95\n",
            "          12       1.00      0.56      0.72        50\n",
            "          13       0.87      0.86      0.86        76\n",
            "          14       0.93      0.95      0.94        65\n",
            "          15       0.93      0.61      0.74        44\n",
            "          16       0.83      0.95      0.89        42\n",
            "          17       0.95      0.89      0.92        83\n",
            "          18       0.98      0.97      0.98        63\n",
            "          19       0.91      0.96      0.94        55\n",
            "\n",
            "    accuracy                           0.86      1296\n",
            "   macro avg       0.86      0.86      0.85      1296\n",
            "weighted avg       0.87      0.86      0.86      1296\n",
            "\n"
          ]
        }
      ]
    },
    {
      "cell_type": "code",
      "source": [
        "model.save('/content/drive/My Drive/NLP/models/layer_0_model.keras')"
      ],
      "metadata": {
        "id": "CWjvyy18bbXM"
      },
      "execution_count": null,
      "outputs": []
    },
    {
      "cell_type": "markdown",
      "source": [],
      "metadata": {
        "id": "XdH0bU1OqGi0"
      }
    },
    {
      "cell_type": "code",
      "source": [
        "import matplotlib.pyplot as plt\n",
        "\n",
        "# Data from the epochs\n",
        "epochs = list(range(1, 21))\n",
        "train_accuracy = [\n",
        "    0.7191, 0.9259, 0.9481, 0.9546, 0.9692, 0.9699, 0.9719, 0.9790,\n",
        "    0.9798, 0.9835, 0.9836, 0.9869, 0.9869, 0.9878, 0.9884, 0.9919,\n",
        "    0.9893, 0.9931, 0.9887, 0.9919\n",
        "]\n",
        "val_accuracy = [\n",
        "    0.9082, 0.8897, 0.9329, 0.9205, 0.9375, 0.9475, 0.9005, 0.9390,\n",
        "    0.9352, 0.9282, 0.9113, 0.9444, 0.9213, 0.9406, 0.9398, 0.9352,\n",
        "    0.9236, 0.9406, 0.9352, 0.9437\n",
        "]\n",
        "train_loss = [\n",
        "    0.9843, 0.2018, 0.1404, 0.1208, 0.0846, 0.0819, 0.0764, 0.0549,\n",
        "    0.0571, 0.0506, 0.0473, 0.0379, 0.0434, 0.0368, 0.0341, 0.0245,\n",
        "    0.0318, 0.0217, 0.0369, 0.0263\n",
        "]\n",
        "val_loss = [\n",
        "    0.2991, 0.3339, 0.2040, 0.2322, 0.1821, 0.2053, 0.4248, 0.2368,\n",
        "    0.2807, 0.2846, 0.3664, 0.2325, 0.2619, 0.2848, 0.2748, 0.3332,\n",
        "    0.2691, 0.3643, 0.3651, 0.2863\n",
        "]\n",
        "\n",
        "plt.figure(figsize=(12, 5))\n",
        "\n",
        "# Plotting training and validation accuracy\n",
        "plt.subplot(1, 2, 1)\n",
        "plt.plot(epochs, train_accuracy, 'bo-', label='Training Accuracy')\n",
        "plt.plot(epochs, val_accuracy, 'ro-', label='Validation Accuracy')\n",
        "plt.title('Training and Validation Accuracy')\n",
        "plt.xlabel('Epoch')\n",
        "plt.ylabel('Accuracy')\n",
        "plt.legend()\n",
        "\n",
        "# Plotting training and validation loss\n",
        "plt.subplot(1, 2, 2)\n",
        "plt.plot(epochs, train_loss, 'b--', label='Training Loss')\n",
        "plt.plot(epochs, val_loss, 'r--', label='Validation Loss')\n",
        "plt.title('Training and Validation Loss')\n",
        "plt.xlabel('Epoch')\n",
        "plt.ylabel('Loss')\n",
        "plt.legend()\n",
        "\n",
        "plt.tight_layout()\n",
        "plt.show()\n"
      ],
      "metadata": {
        "colab": {
          "base_uri": "https://localhost:8080/",
          "height": 507
        },
        "id": "ogCDfV5Kf3ju",
        "outputId": "97bca613-d560-427c-db97-cdf806399242"
      },
      "execution_count": null,
      "outputs": [
        {
          "output_type": "display_data",
          "data": {
            "text/plain": [
              "<Figure size 1200x500 with 2 Axes>"
            ],
            "image/png": "[encoded data removed]"
          },
          "metadata": {}
        }
      ]
    },
    {
      "cell_type": "code",
      "source": [],
      "metadata": {
        "id": "ND27bKhwvAPa"
      },
      "execution_count": null,
      "outputs": []
    },
    {
      "cell_type": "code",
      "source": [
        "from tensorflow.keras.models import load_model\n",
        "\n",
        "# Load a saved model\n",
        "loaded_model = load_model('/content/drive/My Drive/NLP/models/layer_0_model.keras')"
      ],
      "metadata": {
        "id": "WKTLVMtzcenG"
      },
      "execution_count": null,
      "outputs": []
    },
    {
      "cell_type": "code",
      "source": [
        "\n",
        "import pandas as pd\n",
        "\n",
        "# Convert the history dictionary to a pandas DataFrame\n",
        "metrics_df = pd.DataFrame(loaded_model.history)\n",
        "\n",
        "# Display the DataFrame\n",
        "print(metrics_df)\n"
      ],
      "metadata": {
        "colab": {
          "base_uri": "https://localhost:8080/"
        },
        "id": "DzU_uLweclSS",
        "outputId": "35bf6f86-af83-4a82-aa34-90b3c33a9024"
      },
      "execution_count": null,
      "outputs": [
        {
          "output_type": "stream",
          "name": "stdout",
          "text": [
            "Empty DataFrame\n",
            "Columns: []\n",
            "Index: []\n"
          ]
        }
      ]
    },
    {
      "cell_type": "code",
      "source": [
        "!pip install numba"
      ],
      "metadata": {
        "id": "B2xbPfY3XnRW"
      },
      "execution_count": null,
      "outputs": []
    },
    {
      "cell_type": "code",
      "source": [
        "\n",
        "\n",
        "from numba import cuda\n",
        "device = cuda.get_current_device()\n",
        "device.reset()"
      ],
      "metadata": {
        "id": "mb7mQGOXFLhD"
      },
      "execution_count": null,
      "outputs": []
    }
  ]
}