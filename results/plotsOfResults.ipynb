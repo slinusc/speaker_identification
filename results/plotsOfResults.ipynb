{
 "cells": [
  {
   "cell_type": "code",
   "execution_count": null,
   "metadata": {},
   "outputs": [],
   "source": [
    "# Imports\n",
    "import matplotlib.pyplot as plt\n",
    "import pandas as pd\n",
    "\n",
    "# Read results from csv\n",
    "\n",
    "res = pd.read_csv('./final_results_Cnn_logReg.csv')\n",
    "resLog = pd.read_csv('./final_results_logReg.csv')"
   ]
  },
  {
   "cell_type": "code",
   "execution_count": null,
   "metadata": {},
   "outputs": [],
   "source": [
    "# Plot the accuracy and f1 score for CNN\n",
    "plt.figure(figsize=(10, 5))\n",
    "plt.plot(res['Layer'], res[\"Test Accuracy Total\"], marker='o', color='b', label='All Speakers')\n",
    "plt.plot(res['Layer'], res[\"Test Accuracy Female\"], marker='o', color='g', label='Female Speakers')\n",
    "plt.plot(res['Layer'], res[\"Test Accuracy Male\"], marker='o', color='m', label='Male Speakers')\n",
    "plt.xlabel('Layer')\n",
    "plt.ylabel('Accuracy')\n",
    "plt.title('Accuracy of Speaker Identification for Different Layers in XLS-R with CNN')\n",
    "plt.ylim(0.6, 1)  # Set y-axis range from 0 to 1\n",
    "plt.legend()\n",
    "plt.grid(True)\n",
    "plt.tight_layout()\n",
    "plt.show()\n",
    "\n",
    "\n",
    "plt.figure(figsize=(10, 5))\n",
    "plt.plot(res['Layer'], res[\"Test F1-Score Total\"], marker='o', color='b', label='All Speakers')\n",
    "plt.plot(res['Layer'], res[\"Test F1-Score Female\"], marker='o', color='g', label='Female Speakers')\n",
    "plt.plot(res['Layer'], res[\"Test F1-Score Male\"], marker='o', color='m', label='Male Speakers')\n",
    "plt.xlabel('Layer')\n",
    "plt.ylabel('F1-Score')\n",
    "plt.title('F1-Score of Speaker Identification for Different Layers in XLS-R with CNN')\n",
    "plt.ylim(0.6, 1)  # Set y-axis range from 0 to 1\n",
    "plt.legend()\n",
    "plt.grid(True)\n",
    "plt.tight_layout()\n",
    "plt.show()"
   ]
  },
  {
   "cell_type": "code",
   "execution_count": null,
   "metadata": {},
   "outputs": [],
   "source": [
    "# Plot accuracy and f1 score for log. regression\n",
    "plt.figure(figsize=(10, 5))\n",
    "plt.plot(resLog['Layer'], resLog[\"Test Accuracy Total\"], marker='o', color='b', label='All Speakers')\n",
    "plt.plot(resLog['Layer'], resLog[\"Test Accuracy Female\"], marker='o', color='g', label='Female Speakers')\n",
    "plt.plot(resLog['Layer'], resLog[\"Test Accuracy Male\"], marker='o', color='m', label='Male Speakers')\n",
    "plt.xlabel('Layer')\n",
    "plt.ylabel('Accuracy')\n",
    "plt.title('Accuracy of Speaker Identification for Different Layers in XLS-R with Logistic Regression')\n",
    "plt.ylim(0.6, 1)   # Set y-axis range from 0 to 1\n",
    "plt.legend()\n",
    "plt.grid(True)\n",
    "plt.tight_layout()\n",
    "plt.show()\n",
    "\n",
    "\n",
    "plt.figure(figsize=(10, 5))\n",
    "plt.plot(resLog['Layer'], resLog[\"Test F1-Score Total\"], marker='o', color='b', label='All Speakers')\n",
    "plt.plot(resLog['Layer'], resLog[\"Test F1-Score Female\"], marker='o', color='g', label='Female Speakers')\n",
    "plt.plot(resLog['Layer'], resLog[\"Test F1-Score Male\"], marker='o', color='m', label='Male Speakers')\n",
    "plt.xlabel('Layer')\n",
    "plt.ylabel('F1-Score')\n",
    "plt.title('F1-Score of Speaker Identification for Different Layers in XLS-R with Logistic Regression')\n",
    "plt.ylim(0.6, 1)   # Set y-axis range from 0 to 1\n",
    "plt.legend()\n",
    "plt.grid(True)\n",
    "plt.tight_layout()\n",
    "plt.show()"
   ]
  }
 ],
 "metadata": {
  "kernelspec": {
   "display_name": "base",
   "language": "python",
   "name": "python3"
  },
  "language_info": {
   "codemirror_mode": {
    "name": "ipython",
    "version": 3
   },
   "file_extension": ".py",
   "mimetype": "text/x-python",
   "name": "python",
   "nbconvert_exporter": "python",
   "pygments_lexer": "ipython3",
   "version": "3.9.7"
  }
 },
 "nbformat": 4,
 "nbformat_minor": 2
}
